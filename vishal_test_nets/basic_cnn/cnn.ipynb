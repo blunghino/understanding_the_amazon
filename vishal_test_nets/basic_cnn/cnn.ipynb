{
 "cells": [
  {
   "cell_type": "code",
   "execution_count": 1,
   "metadata": {
    "collapsed": true
   },
   "outputs": [],
   "source": [
    "import torch\n",
    "import torch.nn as nn\n",
    "import torch.optim as optim \n",
    "from torch.utils.data import DataLoader\n",
    "from torch.autograd import Variable\n",
    "\n",
    "from training_utils import train\n",
    "from layers import Flatten\n",
    "from read_in_data import AmazonDataset"
   ]
  },
  {
   "cell_type": "code",
   "execution_count": 4,
   "metadata": {},
   "outputs": [],
   "source": [
    "## cpu dtype\n",
    "dtype = torch.FloatTensor\n",
    "save_model_path = \"model_state_dict.pkl\"\n",
    "csv_path = '../../data/train_v2.csv'\n",
    "img_path = '../../data/train-jpg'\n",
    "img_ext=\".jpg\"\n",
    "training_dataset = AmazonDataset(csv_path,img_path,img_ext, dtype)\n",
    "## loader\n",
    "train_loader = DataLoader(\n",
    "    training_dataset,\n",
    "    batch_size=256,\n",
    "    shuffle=True,\n",
    "    num_workers=1 # 1 for CUDA\n",
    "    # pin_memory=True # CUDA only\n",
    ")\n",
    "## simple linear model\n",
    "temp_model=nn.Sequential(\n",
    "    nn.Conv2d(4, 16, kernel_size=3, stride=1),\n",
    "    nn.ReLU(inplace=True),\n",
    "    nn.BatchNorm2d(16),\n",
    "    nn.AdaptiveMaxPool2d(128),\n",
    "    nn.Conv2d(16, 32, kernel_size=3, stride=1),\n",
    "    nn.ReLU(inplace=True),\n",
    "    nn.BatchNorm2d(32),\n",
    "    nn.AdaptiveMaxPool2d(64),\n",
    "    Flatten())\n",
    "\n",
    "temp_model = temp_model.type(dtype)\n",
    "temp_model.train()\n",
    "size=0\n",
    "for t, (x, y) in enumerate(train_loader):\n",
    "            x_var = Variable(x.type(dtype))\n",
    "            size=temp_model(x_var).size()\n",
    "            if(t==0):\n",
    "                break\n",
    "\n",
    "model = nn.Sequential(\n",
    "nn.Conv2d(4, 16, kernel_size=3, stride=1),\n",
    "nn.ReLU(inplace=True),\n",
    "nn.BatchNorm2d(16),\n",
    "nn.AdaptiveMaxPool2d(128),\n",
    "nn.Conv2d(16, 32, kernel_size=3, stride=1),\n",
    "nn.ReLU(inplace=True),\n",
    "nn.BatchNorm2d(32),\n",
    "nn.AdaptiveMaxPool2d(64),\n",
    "Flatten(),\n",
    "nn.Linear(size[1], 1024),\n",
    "nn.ReLU(inplace=True),\n",
    "nn.Linear(1024, 17))\n",
    "\n",
    "model.type(dtype)\n",
    "model.train()\n",
    "loss_fn = nn.MultiLabelSoftMarginLoss().type(dtype)\n",
    "optimizer = optim.Adam(model.parameters(), lr=5e-2)"
   ]
  },
  {
   "cell_type": "code",
   "execution_count": null,
   "metadata": {
    "scrolled": false
   },
   "outputs": [
    {
     "name": "stdout",
     "output_type": "stream",
     "text": [
      "Starting epoch 1 / 1\n",
      "t = 10, loss = 2.5142\n",
      "t = 20, loss = 2.6602\n",
      "t = 30, loss = 2.3745\n",
      "t = 40, loss = 2.7872\n",
      "t = 50, loss = 2.4063\n",
      "t = 60, loss = 2.4253\n",
      "t = 70, loss = 2.4063\n",
      "t = 80, loss = 2.6348\n",
      "t = 90, loss = 2.2983\n",
      "t = 100, loss = 2.5904\n",
      "t = 110, loss = 2.7491\n",
      "t = 120, loss = 2.5650\n"
     ]
    }
   ],
   "source": [
    "train(train_loader, model, loss_fn, optimizer, dtype,num_epochs=1, print_every=10)\n",
    "\n",
    "torch.save(model.state_dict(), save_model_path)\n",
    "state_dict = torch.load(save_model_path)\n",
    "model.load_state_dict(state_dict)"
   ]
  },
  {
   "cell_type": "code",
   "execution_count": null,
   "metadata": {
    "collapsed": true
   },
   "outputs": [],
   "source": []
  }
 ],
 "metadata": {
  "kernelspec": {
   "display_name": "Python 3",
   "language": "python",
   "name": "python3"
  },
  "language_info": {
   "codemirror_mode": {
    "name": "ipython",
    "version": 3
   },
   "file_extension": ".py",
   "mimetype": "text/x-python",
   "name": "python",
   "nbconvert_exporter": "python",
   "pygments_lexer": "ipython3",
   "version": "3.5.2"
  }
 },
 "nbformat": 4,
 "nbformat_minor": 2
}
