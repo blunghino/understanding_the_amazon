{
 "cells": [
  {
   "cell_type": "code",
   "execution_count": 1,
   "metadata": {
    "collapsed": false
   },
   "outputs": [
    {
     "ename": "ImportError",
     "evalue": "No module named training_utils",
     "output_type": "error",
     "traceback": [
      "\u001b[1;31m---------------------------------------------------------------------------\u001b[0m",
      "\u001b[1;31mImportError\u001b[0m                               Traceback (most recent call last)",
      "\u001b[1;32m<ipython-input-1-4f86dca9fcc0>\u001b[0m in \u001b[0;36m<module>\u001b[1;34m()\u001b[0m\n\u001b[0;32m      5\u001b[0m \u001b[1;32mfrom\u001b[0m \u001b[0mtorch\u001b[0m\u001b[1;33m.\u001b[0m\u001b[0mautograd\u001b[0m \u001b[1;32mimport\u001b[0m \u001b[0mVariable\u001b[0m\u001b[1;33m\u001b[0m\u001b[0m\n\u001b[0;32m      6\u001b[0m \u001b[1;33m\u001b[0m\u001b[0m\n\u001b[1;32m----> 7\u001b[1;33m \u001b[1;32mfrom\u001b[0m \u001b[0mtraining_utils\u001b[0m \u001b[1;32mimport\u001b[0m \u001b[0mtrain\u001b[0m\u001b[1;33m\u001b[0m\u001b[0m\n\u001b[0m\u001b[0;32m      8\u001b[0m \u001b[1;32mfrom\u001b[0m \u001b[0mlayers\u001b[0m \u001b[1;32mimport\u001b[0m \u001b[0mFlatten\u001b[0m\u001b[1;33m\u001b[0m\u001b[0m\n\u001b[0;32m      9\u001b[0m \u001b[1;32mfrom\u001b[0m \u001b[0mread_in_data\u001b[0m \u001b[1;32mimport\u001b[0m \u001b[0mAmazonDataset\u001b[0m\u001b[1;33m\u001b[0m\u001b[0m\n",
      "\u001b[1;31mImportError\u001b[0m: No module named training_utils"
     ]
    }
   ],
   "source": [
    "import torch\n",
    "import torch.nn as nn\n",
    "import torch.optim as optim \n",
    "from torch.utils.data import DataLoader\n",
    "from torch.autograd import Variable\n",
    "\n",
    "from training_utils import train\n",
    "from layers import Flatten\n",
    "from read_in_data import AmazonDataset"
   ]
  },
  {
   "cell_type": "code",
   "execution_count": null,
   "metadata": {
    "collapsed": true
   },
   "outputs": [],
   "source": [
    "## cpu dtype\n",
    "dtype = torch.cuda.FloatTensor#torch.FloatTensor\n",
    "save_model_path = \"model_state_dict.pkl\"\n",
    "csv_path = '../../data/train_v2.csv'\n",
    "img_path = '../../data/train-jpg'\n",
    "training_dataset = AmazonDataset(csv_path, img_path, dtype, img_ext=\".jpg\")\n",
    "## loader\n",
    "train_loader = DataLoader(\n",
    "    training_dataset,\n",
    "    batch_size=256,\n",
    "    shuffle=True,\n",
    "    num_workers=1 # 1 for CUDA\n",
    "    # pin_memory=True # CUDA only\n",
    ")\n",
    "## simple linear model\n",
    "temp_model=nn.Sequential(\n",
    "    nn.Conv2d(4, 16, kernel_size=3, stride=1),\n",
    "    nn.ReLU(inplace=True),\n",
    "    nn.BatchNorm2d(16),\n",
    "    nn.AdaptiveMaxPool2d(128),\n",
    "    nn.Conv2d(16, 32, kernel_size=3, stride=1),\n",
    "    nn.ReLU(inplace=True),\n",
    "    nn.BatchNorm2d(32),\n",
    "    nn.AdaptiveMaxPool2d(64),\n",
    "    Flatten())\n",
    "\n",
    "temp_model = temp_model.type(dtype)\n",
    "temp_model.train()\n",
    "size=0\n",
    "for t, (x, y) in enumerate(train_loader):\n",
    "            x_var = Variable(x.type(dtype))\n",
    "            size=temp_model(x_var).size()\n",
    "            if(t==0):\n",
    "                break\n",
    "\n",
    "model = nn.Sequential(\n",
    "nn.Conv2d(4, 16, kernel_size=3, stride=1),\n",
    "nn.ReLU(inplace=True),\n",
    "nn.BatchNorm2d(16),\n",
    "nn.AdaptiveMaxPool2d(128),\n",
    "nn.Conv2d(16, 32, kernel_size=3, stride=1),\n",
    "nn.ReLU(inplace=True),\n",
    "nn.BatchNorm2d(32),\n",
    "nn.AdaptiveMaxPool2d(64),\n",
    "Flatten(),\n",
    "nn.Linear(size[1], 1024),\n",
    "nn.ReLU(inplace=True),\n",
    "nn.Linear(1024, 17))\n",
    "\n",
    "model.type(dtype)\n",
    "model.train()\n",
    "loss_fn = nn.MultiLabelSoftMarginLoss().type(dtype)\n",
    "optimizer = optim.Adam(model.parameters(), lr=5e-2)"
   ]
  },
  {
   "cell_type": "code",
   "execution_count": null,
   "metadata": {
    "collapsed": false
   },
   "outputs": [
    {
     "name": "stdout",
     "output_type": "stream",
     "text": [
      "Starting epoch 1 / 1\n",
      "t = 1, loss = 0.6831\n"
     ]
    }
   ],
   "source": [
    "train(train_loader, model, loss_fn, optimizer, dtype,num_epochs=1, print_every=1)\n",
    "\n",
    "torch.save(model.state_dict(), save_model_path)\n",
    "state_dict = torch.load(save_model_path)\n",
    "model.load_state_dict(state_dict)"
   ]
  }
 ],
 "metadata": {
  "kernelspec": {
   "display_name": "Python 2",
   "language": "python",
   "name": "python2"
  },
  "language_info": {
   "codemirror_mode": {
    "name": "ipython",
    "version": 2
   },
   "file_extension": ".py",
   "mimetype": "text/x-python",
   "name": "python",
   "nbconvert_exporter": "python",
   "pygments_lexer": "ipython2",
   "version": "2.7.12"
  }
 },
 "nbformat": 4,
 "nbformat_minor": 2
}
